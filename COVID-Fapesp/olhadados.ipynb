{
 "cells": [
  {
   "cell_type": "markdown",
   "metadata": {},
   "source": [
    "# Olhando exames de um CSV em Python/Pandas"
   ]
  },
  {
   "cell_type": "code",
   "execution_count": 1,
   "metadata": {},
   "outputs": [],
   "source": [
    "import pandas as pd"
   ]
  },
  {
   "cell_type": "markdown",
   "metadata": {},
   "source": [
    "Ler o CSV no farmato dado (o separador é o '|')"
   ]
  },
  {
   "cell_type": "code",
   "execution_count": 2,
   "metadata": {},
   "outputs": [],
   "source": [
    "ex = pd.read_csv('bpsp_exames_01.csv', sep='|')"
   ]
  },
  {
   "cell_type": "markdown",
   "metadata": {},
   "source": [
    "Quais colunas foram lidas?"
   ]
  },
  {
   "cell_type": "code",
   "execution_count": 3,
   "metadata": {},
   "outputs": [
    {
     "data": {
      "text/plain": [
       "Index(['ID_PACIENTE', 'ID_ATENDIMENTO', 'DT_COLETA', 'DE_ORIGEM', 'DE_EXAME',\n",
       "       'DE_ANALITO', 'DE_RESULTADO', 'CD_UNIDADE', 'DE_VALOR_REFERENCIA'],\n",
       "      dtype='object')"
      ]
     },
     "execution_count": 3,
     "metadata": {},
     "output_type": "execute_result"
    }
   ],
   "source": [
    "ex.columns"
   ]
  },
  {
   "cell_type": "markdown",
   "metadata": {},
   "source": [
    "Como ficou o Dataframe lido (mostra uma listagem parcial da tabela, que é enorme: 6329103 rows × 9 columns)"
   ]
  },
  {
   "cell_type": "code",
   "execution_count": 4,
   "metadata": {},
   "outputs": [
    {
     "data": {
      "text/html": [
       "<div>\n",
       "<style scoped>\n",
       "    .dataframe tbody tr th:only-of-type {\n",
       "        vertical-align: middle;\n",
       "    }\n",
       "\n",
       "    .dataframe tbody tr th {\n",
       "        vertical-align: top;\n",
       "    }\n",
       "\n",
       "    .dataframe thead th {\n",
       "        text-align: right;\n",
       "    }\n",
       "</style>\n",
       "<table border=\"1\" class=\"dataframe\">\n",
       "  <thead>\n",
       "    <tr style=\"text-align: right;\">\n",
       "      <th></th>\n",
       "      <th>ID_PACIENTE</th>\n",
       "      <th>ID_ATENDIMENTO</th>\n",
       "      <th>DT_COLETA</th>\n",
       "      <th>DE_ORIGEM</th>\n",
       "      <th>DE_EXAME</th>\n",
       "      <th>DE_ANALITO</th>\n",
       "      <th>DE_RESULTADO</th>\n",
       "      <th>CD_UNIDADE</th>\n",
       "      <th>DE_VALOR_REFERENCIA</th>\n",
       "    </tr>\n",
       "  </thead>\n",
       "  <tbody>\n",
       "    <tr>\n",
       "      <th>0</th>\n",
       "      <td>B8E5614AFF218E3A</td>\n",
       "      <td>E01317159E211FA7B00EAA56B9786F98</td>\n",
       "      <td>11/07/2020</td>\n",
       "      <td>HOSP</td>\n",
       "      <td>Hemograma completo, sangue total</td>\n",
       "      <td>Hemoglobina Corpuscular Media</td>\n",
       "      <td>30,6</td>\n",
       "      <td>pg</td>\n",
       "      <td>25,0 a 32,0</td>\n",
       "    </tr>\n",
       "    <tr>\n",
       "      <th>1</th>\n",
       "      <td>B8E5614AFF218E3A</td>\n",
       "      <td>E01317159E211FA7B00EAA56B9786F98</td>\n",
       "      <td>11/07/2020</td>\n",
       "      <td>HOSP</td>\n",
       "      <td>Hemograma completo, sangue total</td>\n",
       "      <td>Hematocrito</td>\n",
       "      <td>46</td>\n",
       "      <td>%</td>\n",
       "      <td>35,0 a 44,0</td>\n",
       "    </tr>\n",
       "    <tr>\n",
       "      <th>2</th>\n",
       "      <td>B8E5614AFF218E3A</td>\n",
       "      <td>E01317159E211FA7B00EAA56B9786F98</td>\n",
       "      <td>11/07/2020</td>\n",
       "      <td>HOSP</td>\n",
       "      <td>Hemograma completo, sangue total</td>\n",
       "      <td>Eritrocitos</td>\n",
       "      <td>4,9</td>\n",
       "      <td>milhoes/mm3</td>\n",
       "      <td>4,10 a 5,20</td>\n",
       "    </tr>\n",
       "    <tr>\n",
       "      <th>3</th>\n",
       "      <td>B8E5614AFF218E3A</td>\n",
       "      <td>E01317159E211FA7B00EAA56B9786F98</td>\n",
       "      <td>11/07/2020</td>\n",
       "      <td>HOSP</td>\n",
       "      <td>Hemograma completo, sangue total</td>\n",
       "      <td>Plaquetas</td>\n",
       "      <td>210000</td>\n",
       "      <td>/mm3</td>\n",
       "      <td>150.000 a 450.000</td>\n",
       "    </tr>\n",
       "    <tr>\n",
       "      <th>4</th>\n",
       "      <td>B8E5614AFF218E3A</td>\n",
       "      <td>E01317159E211FA7B00EAA56B9786F98</td>\n",
       "      <td>11/07/2020</td>\n",
       "      <td>HOSP</td>\n",
       "      <td>Hemograma completo, sangue total</td>\n",
       "      <td>Monocitos</td>\n",
       "      <td>890</td>\n",
       "      <td>/mm3</td>\n",
       "      <td>0 a 800</td>\n",
       "    </tr>\n",
       "    <tr>\n",
       "      <th>...</th>\n",
       "      <td>...</td>\n",
       "      <td>...</td>\n",
       "      <td>...</td>\n",
       "      <td>...</td>\n",
       "      <td>...</td>\n",
       "      <td>...</td>\n",
       "      <td>...</td>\n",
       "      <td>...</td>\n",
       "      <td>...</td>\n",
       "    </tr>\n",
       "    <tr>\n",
       "      <th>6329098</th>\n",
       "      <td>57789DAF1D4E868A</td>\n",
       "      <td>17247C74EEF84AA4BC86025DAF82FA01</td>\n",
       "      <td>19/03/2020</td>\n",
       "      <td>HOSP</td>\n",
       "      <td>Creatino fosfoquinase fracao MB (CKMB) massa, ...</td>\n",
       "      <td>CK-MB, Eletroquimioluminescencia</td>\n",
       "      <td>21,4</td>\n",
       "      <td>ng/mL</td>\n",
       "      <td>inferior a 5,0</td>\n",
       "    </tr>\n",
       "    <tr>\n",
       "      <th>6329099</th>\n",
       "      <td>57789DAF1D4E868A</td>\n",
       "      <td>17247C74EEF84AA4BC86025DAF82FA01</td>\n",
       "      <td>19/03/2020</td>\n",
       "      <td>HOSP</td>\n",
       "      <td>Creatinina, plasma</td>\n",
       "      <td>Creatinina</td>\n",
       "      <td>8,8</td>\n",
       "      <td>mg/dL</td>\n",
       "      <td>0,60 a 1,10</td>\n",
       "    </tr>\n",
       "    <tr>\n",
       "      <th>6329100</th>\n",
       "      <td>57789DAF1D4E868A</td>\n",
       "      <td>17247C74EEF84AA4BC86025DAF82FA01</td>\n",
       "      <td>20/03/2020</td>\n",
       "      <td>HOSP</td>\n",
       "      <td>Troponina I, plasma</td>\n",
       "      <td>Troponina I</td>\n",
       "      <td>5,7</td>\n",
       "      <td>ng/mL</td>\n",
       "      <td>inferior a 0,16</td>\n",
       "    </tr>\n",
       "    <tr>\n",
       "      <th>6329101</th>\n",
       "      <td>57789DAF1D4E868A</td>\n",
       "      <td>17247C74EEF84AA4BC86025DAF82FA01</td>\n",
       "      <td>20/03/2020</td>\n",
       "      <td>HOSP</td>\n",
       "      <td>Creatino fosfoquinase fracao MB (CKMB) massa, ...</td>\n",
       "      <td>CK-MB, Eletroquimioluminescencia</td>\n",
       "      <td>45,2</td>\n",
       "      <td>ng/mL</td>\n",
       "      <td>inferior a 5,0</td>\n",
       "    </tr>\n",
       "    <tr>\n",
       "      <th>6329102</th>\n",
       "      <td>57789DAF1D4E868A</td>\n",
       "      <td>17247C74EEF84AA4BC86025DAF82FA01</td>\n",
       "      <td>19/03/2020</td>\n",
       "      <td>HOSP</td>\n",
       "      <td>Ureia, plasma</td>\n",
       "      <td>Ureia</td>\n",
       "      <td>80</td>\n",
       "      <td>mg/dL</td>\n",
       "      <td>10 a 50</td>\n",
       "    </tr>\n",
       "  </tbody>\n",
       "</table>\n",
       "<p>6329103 rows × 9 columns</p>\n",
       "</div>"
      ],
      "text/plain": [
       "              ID_PACIENTE                    ID_ATENDIMENTO   DT_COLETA  \\\n",
       "0        B8E5614AFF218E3A  E01317159E211FA7B00EAA56B9786F98  11/07/2020   \n",
       "1        B8E5614AFF218E3A  E01317159E211FA7B00EAA56B9786F98  11/07/2020   \n",
       "2        B8E5614AFF218E3A  E01317159E211FA7B00EAA56B9786F98  11/07/2020   \n",
       "3        B8E5614AFF218E3A  E01317159E211FA7B00EAA56B9786F98  11/07/2020   \n",
       "4        B8E5614AFF218E3A  E01317159E211FA7B00EAA56B9786F98  11/07/2020   \n",
       "...                   ...                               ...         ...   \n",
       "6329098  57789DAF1D4E868A  17247C74EEF84AA4BC86025DAF82FA01  19/03/2020   \n",
       "6329099  57789DAF1D4E868A  17247C74EEF84AA4BC86025DAF82FA01  19/03/2020   \n",
       "6329100  57789DAF1D4E868A  17247C74EEF84AA4BC86025DAF82FA01  20/03/2020   \n",
       "6329101  57789DAF1D4E868A  17247C74EEF84AA4BC86025DAF82FA01  20/03/2020   \n",
       "6329102  57789DAF1D4E868A  17247C74EEF84AA4BC86025DAF82FA01  19/03/2020   \n",
       "\n",
       "        DE_ORIGEM                                           DE_EXAME  \\\n",
       "0            HOSP                   Hemograma completo, sangue total   \n",
       "1            HOSP                   Hemograma completo, sangue total   \n",
       "2            HOSP                   Hemograma completo, sangue total   \n",
       "3            HOSP                   Hemograma completo, sangue total   \n",
       "4            HOSP                   Hemograma completo, sangue total   \n",
       "...           ...                                                ...   \n",
       "6329098      HOSP  Creatino fosfoquinase fracao MB (CKMB) massa, ...   \n",
       "6329099      HOSP                                 Creatinina, plasma   \n",
       "6329100      HOSP                                Troponina I, plasma   \n",
       "6329101      HOSP  Creatino fosfoquinase fracao MB (CKMB) massa, ...   \n",
       "6329102      HOSP                                      Ureia, plasma   \n",
       "\n",
       "                               DE_ANALITO DE_RESULTADO   CD_UNIDADE  \\\n",
       "0           Hemoglobina Corpuscular Media         30,6           pg   \n",
       "1                             Hematocrito           46            %   \n",
       "2                             Eritrocitos          4,9  milhoes/mm3   \n",
       "3                               Plaquetas       210000         /mm3   \n",
       "4                               Monocitos          890         /mm3   \n",
       "...                                   ...          ...          ...   \n",
       "6329098  CK-MB, Eletroquimioluminescencia         21,4        ng/mL   \n",
       "6329099                        Creatinina          8,8        mg/dL   \n",
       "6329100                       Troponina I          5,7        ng/mL   \n",
       "6329101  CK-MB, Eletroquimioluminescencia         45,2        ng/mL   \n",
       "6329102                             Ureia           80        mg/dL   \n",
       "\n",
       "        DE_VALOR_REFERENCIA  \n",
       "0               25,0 a 32,0  \n",
       "1               35,0 a 44,0  \n",
       "2               4,10 a 5,20  \n",
       "3         150.000 a 450.000  \n",
       "4                   0 a 800  \n",
       "...                     ...  \n",
       "6329098      inferior a 5,0  \n",
       "6329099         0,60 a 1,10  \n",
       "6329100     inferior a 0,16  \n",
       "6329101      inferior a 5,0  \n",
       "6329102             10 a 50  \n",
       "\n",
       "[6329103 rows x 9 columns]"
      ]
     },
     "execution_count": 4,
     "metadata": {},
     "output_type": "execute_result"
    }
   ],
   "source": [
    "ex"
   ]
  },
  {
   "cell_type": "markdown",
   "metadata": {},
   "source": [
    "A seguir, agrupamos (<i>groupby</i>) pelos campos _DE_EXAME_ e _DE_ANALITO_;\n",
    "chamamos o método _count()_ para esse objeto de grupo,\n",
    "ordenamos pela variável _ID_PACIENTE_, que é o número de registros contados\n"
   ]
  },
  {
   "cell_type": "code",
   "execution_count": 5,
   "metadata": {},
   "outputs": [],
   "source": [
    "l = ex.groupby(['DE_EXAME','DE_ANALITO']).count().sort_values('ID_PACIENTE',ascending=False)['ID_PACIENTE']\n"
   ]
  },
  {
   "cell_type": "markdown",
   "metadata": {},
   "source": [
    "O resultado é uma contagem hierárquica dos registros do CSV"
   ]
  },
  {
   "cell_type": "code",
   "execution_count": 6,
   "metadata": {},
   "outputs": [
    {
     "data": {
      "text/plain": [
       "DE_EXAME                                  DE_ANALITO                            \n",
       "Hemograma completo, sangue total          Hemoglobina                               124600\n",
       "                                          Plaquetas                                 124600\n",
       "                                          Leucocitos                                124600\n",
       "                                          Eritrocitos                               124600\n",
       "                                          Hematocrito                               124600\n",
       "                                                                                     ...  \n",
       "Figado, anticorpos anti, Soro             Musculo liso - Muscularis Mucosa               1\n",
       "Bacterioscopico (GRAM), varios materiais  Bacterioscopico - Eritrocitos                  1\n",
       "Figado, anticorpos anti, Soro             Musculo liso - Mesangio Glomerular             1\n",
       "                                          Musculo liso - Bainha Muscular de Vaso         1\n",
       "DNA Fetal, deteccao por PCR, plasma       DNA Fetal - Conclusao                          1\n",
       "Name: ID_PACIENTE, Length: 1536, dtype: int64"
      ]
     },
     "execution_count": 6,
     "metadata": {},
     "output_type": "execute_result"
    }
   ],
   "source": [
    "l"
   ]
  },
  {
   "cell_type": "code",
   "execution_count": 7,
   "metadata": {},
   "outputs": [
    {
     "data": {
      "text/plain": [
       "pandas.core.series.Series"
      ]
     },
     "execution_count": 7,
     "metadata": {},
     "output_type": "execute_result"
    }
   ],
   "source": [
    "type(l)"
   ]
  },
  {
   "cell_type": "markdown",
   "metadata": {},
   "source": [
    "Para poder passar isso para outras análises vamos gerar um CSV.\n",
    "Como o objeto _l_ é uma Série, utilizamos o método _reset_index()_ para transformar num DataFrame"
   ]
  },
  {
   "cell_type": "code",
   "execution_count": 8,
   "metadata": {},
   "outputs": [
    {
     "data": {
      "text/html": [
       "<div>\n",
       "<style scoped>\n",
       "    .dataframe tbody tr th:only-of-type {\n",
       "        vertical-align: middle;\n",
       "    }\n",
       "\n",
       "    .dataframe tbody tr th {\n",
       "        vertical-align: top;\n",
       "    }\n",
       "\n",
       "    .dataframe thead th {\n",
       "        text-align: right;\n",
       "    }\n",
       "</style>\n",
       "<table border=\"1\" class=\"dataframe\">\n",
       "  <thead>\n",
       "    <tr style=\"text-align: right;\">\n",
       "      <th></th>\n",
       "      <th>DE_EXAME</th>\n",
       "      <th>DE_ANALITO</th>\n",
       "      <th>ID_PACIENTE</th>\n",
       "    </tr>\n",
       "  </thead>\n",
       "  <tbody>\n",
       "    <tr>\n",
       "      <th>0</th>\n",
       "      <td>Hemograma completo, sangue total</td>\n",
       "      <td>Hemoglobina</td>\n",
       "      <td>124600</td>\n",
       "    </tr>\n",
       "    <tr>\n",
       "      <th>1</th>\n",
       "      <td>Hemograma completo, sangue total</td>\n",
       "      <td>Plaquetas</td>\n",
       "      <td>124600</td>\n",
       "    </tr>\n",
       "    <tr>\n",
       "      <th>2</th>\n",
       "      <td>Hemograma completo, sangue total</td>\n",
       "      <td>Leucocitos</td>\n",
       "      <td>124600</td>\n",
       "    </tr>\n",
       "    <tr>\n",
       "      <th>3</th>\n",
       "      <td>Hemograma completo, sangue total</td>\n",
       "      <td>Eritrocitos</td>\n",
       "      <td>124600</td>\n",
       "    </tr>\n",
       "    <tr>\n",
       "      <th>4</th>\n",
       "      <td>Hemograma completo, sangue total</td>\n",
       "      <td>Hematocrito</td>\n",
       "      <td>124600</td>\n",
       "    </tr>\n",
       "    <tr>\n",
       "      <th>...</th>\n",
       "      <td>...</td>\n",
       "      <td>...</td>\n",
       "      <td>...</td>\n",
       "    </tr>\n",
       "    <tr>\n",
       "      <th>1531</th>\n",
       "      <td>Figado, anticorpos anti, Soro</td>\n",
       "      <td>Musculo liso - Muscularis Mucosa</td>\n",
       "      <td>1</td>\n",
       "    </tr>\n",
       "    <tr>\n",
       "      <th>1532</th>\n",
       "      <td>Bacterioscopico (GRAM), varios materiais</td>\n",
       "      <td>Bacterioscopico - Eritrocitos</td>\n",
       "      <td>1</td>\n",
       "    </tr>\n",
       "    <tr>\n",
       "      <th>1533</th>\n",
       "      <td>Figado, anticorpos anti, Soro</td>\n",
       "      <td>Musculo liso - Mesangio Glomerular</td>\n",
       "      <td>1</td>\n",
       "    </tr>\n",
       "    <tr>\n",
       "      <th>1534</th>\n",
       "      <td>Figado, anticorpos anti, Soro</td>\n",
       "      <td>Musculo liso - Bainha Muscular de Vaso</td>\n",
       "      <td>1</td>\n",
       "    </tr>\n",
       "    <tr>\n",
       "      <th>1535</th>\n",
       "      <td>DNA Fetal, deteccao por PCR, plasma</td>\n",
       "      <td>DNA Fetal - Conclusao</td>\n",
       "      <td>1</td>\n",
       "    </tr>\n",
       "  </tbody>\n",
       "</table>\n",
       "<p>1536 rows × 3 columns</p>\n",
       "</div>"
      ],
      "text/plain": [
       "                                      DE_EXAME  \\\n",
       "0             Hemograma completo, sangue total   \n",
       "1             Hemograma completo, sangue total   \n",
       "2             Hemograma completo, sangue total   \n",
       "3             Hemograma completo, sangue total   \n",
       "4             Hemograma completo, sangue total   \n",
       "...                                        ...   \n",
       "1531             Figado, anticorpos anti, Soro   \n",
       "1532  Bacterioscopico (GRAM), varios materiais   \n",
       "1533             Figado, anticorpos anti, Soro   \n",
       "1534             Figado, anticorpos anti, Soro   \n",
       "1535      DNA Fetal, deteccao por PCR, plasma    \n",
       "\n",
       "                                  DE_ANALITO  ID_PACIENTE  \n",
       "0                                Hemoglobina       124600  \n",
       "1                                  Plaquetas       124600  \n",
       "2                                 Leucocitos       124600  \n",
       "3                                Eritrocitos       124600  \n",
       "4                                Hematocrito       124600  \n",
       "...                                      ...          ...  \n",
       "1531        Musculo liso - Muscularis Mucosa            1  \n",
       "1532           Bacterioscopico - Eritrocitos            1  \n",
       "1533      Musculo liso - Mesangio Glomerular            1  \n",
       "1534  Musculo liso - Bainha Muscular de Vaso            1  \n",
       "1535                   DNA Fetal - Conclusao            1  \n",
       "\n",
       "[1536 rows x 3 columns]"
      ]
     },
     "execution_count": 8,
     "metadata": {},
     "output_type": "execute_result"
    }
   ],
   "source": [
    "l.reset_index()"
   ]
  },
  {
   "cell_type": "markdown",
   "metadata": {},
   "source": [
    "Esse Dataframe é usado para salvar os dados em CSV"
   ]
  },
  {
   "cell_type": "code",
   "execution_count": 9,
   "metadata": {},
   "outputs": [],
   "source": [
    "l.reset_index().to_csv(\"exames.csv\")"
   ]
  }
 ],
 "metadata": {
  "kernelspec": {
   "display_name": "Python 3",
   "language": "python",
   "name": "python3"
  },
  "language_info": {
   "codemirror_mode": {
    "name": "ipython",
    "version": 3
   },
   "file_extension": ".py",
   "mimetype": "text/x-python",
   "name": "python",
   "nbconvert_exporter": "python",
   "pygments_lexer": "ipython3",
   "version": "3.8.10"
  }
 },
 "nbformat": 4,
 "nbformat_minor": 4
}
