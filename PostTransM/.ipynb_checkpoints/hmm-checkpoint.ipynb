{
 "cells": [
  {
   "cell_type": "code",
   "execution_count": 2,
   "metadata": {},
   "outputs": [],
   "source": [
    "import pandas as pd\n"
   ]
  },
  {
   "cell_type": "code",
   "execution_count": 3,
   "metadata": {},
   "outputs": [],
   "source": [
    "n = pd.read_pickle('nitros.pickle')"
   ]
  },
  {
   "cell_type": "code",
   "execution_count": 8,
   "metadata": {},
   "outputs": [],
   "source": [
    "p = pd.read_pickle('phospho.pickle')"
   ]
  },
  {
   "cell_type": "code",
   "execution_count": 9,
   "metadata": {},
   "outputs": [],
   "source": [
    "seqs = pd.read_pickle('seqs.pickle')"
   ]
  },
  {
   "cell_type": "code",
   "execution_count": null,
   "metadata": {},
   "outputs": [],
   "source": [
    "import pandas as pd\n",
    "\n",
    "\n",
    "sitios = pd.read_pickle('nitros.pickle').astype({'ACC_ID':str,'LOC':int})\n",
    "sitios.LOC = sitios.LOC-1   # transforma os LOC para 0 -based\n",
    "\n",
    "seqs = pd.read_pickle('seqs.pickle')\n",
    "\n",
    "outp = open(\"snpos.fas\",\"w\")\n",
    "outn = open(\"snneg.fas\",\"w\")\n",
    "\n",
    "N=20\n",
    "seqsDisponiveis = list(seqs.ACC_ID)\n",
    "\n",
    "for i,rowSeq in seqs.iterrows():\n",
    "    acc = rowSeq['ACC_ID']\n",
    "    seq = rowSeq['SEQ']\n",
    "    \n",
    "    if acc not in seqsDisponiveis:\n",
    "        continue\n",
    "        \n",
    "    listInd = [] # indices de todas as C\n",
    "    for ind in range(len(seq)):\n",
    "        if seq[ind]==\"C\":\n",
    "                if ind>=N and ind<=len(seq)-N:\n",
    "                    listInd.append(ind)\n",
    "                    \n",
    "    sits = sitios[sitios.ACC_ID==acc]\n",
    "    \n",
    "    for locC in listInd:\n",
    "        if locC in list(sits.LOC): # é sítio de nitrosilação\n",
    "            outp.write(\"> \" + seq +\"\\n\")\n",
    "            outn.write(seq[locC-N:locC+N+1]+\"\\n\")\n",
    "        else:\n",
    "            outn.write(\"> \" + seq +\"\\n\")\n",
    "            outn.write(seq[locC-N:locC+N+1]+\"\\n\")\n",
    "\n",
    "outp.close()    \n",
    "outn.close()    "
   ]
  }
 ],
 "metadata": {
  "kernelspec": {
   "display_name": "Python 3",
   "language": "python",
   "name": "python3"
  },
  "language_info": {
   "codemirror_mode": {
    "name": "ipython",
    "version": 3
   },
   "file_extension": ".py",
   "mimetype": "text/x-python",
   "name": "python",
   "nbconvert_exporter": "python",
   "pygments_lexer": "ipython3",
   "version": "3.8.10"
  }
 },
 "nbformat": 4,
 "nbformat_minor": 4
}
